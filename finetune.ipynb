{
 "cells": [
  {
   "cell_type": "code",
   "execution_count": 1,
   "id": "efa930df-2aec-4467-8690-d31b1430337d",
   "metadata": {},
   "outputs": [],
   "source": [
    "import os\n",
    "from collections import defaultdict\n",
    "\n",
    "import numpy as np\n",
    "import torch\n",
    "import torchvision.transforms as T\n",
    "from torchvision.datasets import ImageFolder\n",
    "from torchvision.models import resnet50\n",
    "from tqdm import tqdm\n",
    "\n",
    "torch.manual_seed(0)\n",
    "device = \"cuda\" if torch.cuda.is_available() else \"cpu\"\n",
    "WEIGHT_PATH = \"weights\"\n",
    "RECORD_PATH = \"records\"\n",
    "os.makedirs(WEIGHT_PATH, exist_ok=True)\n",
    "os.makedirs(RECORD_PATH, exist_ok=True)"
   ]
  },
  {
   "cell_type": "code",
   "execution_count": 2,
   "id": "5741ccc6-24d2-4c71-a82f-39a771abcd59",
   "metadata": {},
   "outputs": [],
   "source": [
    "transform_train = T.Compose(\n",
    "    [\n",
    "        T.RandomResizedCrop((224, 224)),\n",
    "        T.RandAugment(),\n",
    "        T.ToTensor(),\n",
    "    ]\n",
    ")\n",
    "\n",
    "transform_eval = T.Compose(\n",
    "    [\n",
    "        T.Resize((224, 224)),\n",
    "        T.ToTensor(),\n",
    "    ]\n",
    ")\n",
    "\n",
    "trainset = ImageFolder(\"birds-400/train\", transform=transform_train)\n",
    "validset = ImageFolder(\"birds-400/valid\", transform=transform_eval)\n",
    "testset = ImageFolder(\"birds-400/test\", transform=transform_eval)\n",
    "\n",
    "model = resnet50()\n",
    "model.fc = torch.nn.Sequential(\n",
    "    torch.nn.Linear(2048, 512), torch.nn.ReLU(), torch.nn.Linear(512, 128)\n",
    ")\n",
    "\n",
    "model.load_state_dict(torch.load(os.path.join(WEIGHT_PATH, \"r50_simclr_pretrain.pt\")))\n",
    "\n",
    "for p in model.parameters():\n",
    "    p.requires_grad = False\n",
    "\n",
    "model.fc = torch.nn.Linear(2048, len(trainset.class_to_idx))\n",
    "\n",
    "model = model.to(device)\n",
    "\n",
    "trainloader = torch.utils.data.DataLoader(trainset, 32, True, pin_memory=True)\n",
    "validloader = torch.utils.data.DataLoader(validset, 32, pin_memory=True)\n",
    "testloader = torch.utils.data.DataLoader(testset, 32, pin_memory=True)\n",
    "\n",
    "\n",
    "optimizer = torch.optim.SGD(model.parameters(), 5e-3, momentum=0.9, weight_decay=1e-4)\n",
    "scheduler = torch.optim.lr_scheduler.CosineAnnealingLR(optimizer, len(trainloader) * 50)\n",
    "criterion = torch.nn.CrossEntropyLoss()"
   ]
  },
  {
   "cell_type": "code",
   "execution_count": 3,
   "id": "db7f6ddb-6f71-4af3-8424-e31e80c42d31",
   "metadata": {},
   "outputs": [
    {
     "name": "stdout",
     "output_type": "stream",
     "text": [
      "Epoch 1/50\n"
     ]
    },
    {
     "name": "stderr",
     "output_type": "stream",
     "text": [
      "100%|██████████| 1825/1825 [03:34<00:00,  8.49it/s, train_loss=4.91, train_accuracy=0.112, valid_loss=4.12, valid_accuracy=0.21]  \n"
     ]
    },
    {
     "name": "stdout",
     "output_type": "stream",
     "text": [
      "Epoch 2/50\n"
     ]
    },
    {
     "name": "stderr",
     "output_type": "stream",
     "text": [
      "100%|██████████| 1825/1825 [03:35<00:00,  8.49it/s, train_loss=4.4, train_accuracy=0.169, valid_loss=3.9, valid_accuracy=0.222]  \n"
     ]
    },
    {
     "name": "stdout",
     "output_type": "stream",
     "text": [
      "Epoch 3/50\n"
     ]
    },
    {
     "name": "stderr",
     "output_type": "stream",
     "text": [
      "100%|██████████| 1825/1825 [03:35<00:00,  8.46it/s, train_loss=4.24, train_accuracy=0.19, valid_loss=3.67, valid_accuracy=0.256]\n"
     ]
    },
    {
     "name": "stdout",
     "output_type": "stream",
     "text": [
      "Epoch 4/50\n"
     ]
    },
    {
     "name": "stderr",
     "output_type": "stream",
     "text": [
      "100%|██████████| 1825/1825 [03:34<00:00,  8.51it/s, train_loss=4.13, train_accuracy=0.205, valid_loss=3.45, valid_accuracy=0.283]\n"
     ]
    },
    {
     "name": "stdout",
     "output_type": "stream",
     "text": [
      "Epoch 5/50\n"
     ]
    },
    {
     "name": "stderr",
     "output_type": "stream",
     "text": [
      "100%|██████████| 1825/1825 [03:35<00:00,  8.46it/s, train_loss=4.04, train_accuracy=0.217, valid_loss=3.4, valid_accuracy=0.291] \n"
     ]
    },
    {
     "name": "stdout",
     "output_type": "stream",
     "text": [
      "Epoch 6/50\n"
     ]
    },
    {
     "name": "stderr",
     "output_type": "stream",
     "text": [
      "100%|██████████| 1825/1825 [03:35<00:00,  8.46it/s, train_loss=3.95, train_accuracy=0.231, valid_loss=3.23, valid_accuracy=0.312] \n"
     ]
    },
    {
     "name": "stdout",
     "output_type": "stream",
     "text": [
      "Epoch 7/50\n"
     ]
    },
    {
     "name": "stderr",
     "output_type": "stream",
     "text": [
      "100%|██████████| 1825/1825 [03:34<00:00,  8.51it/s, train_loss=3.9, train_accuracy=0.237, valid_loss=3.31, valid_accuracy=0.305]\n"
     ]
    },
    {
     "name": "stdout",
     "output_type": "stream",
     "text": [
      "Epoch 8/50\n"
     ]
    },
    {
     "name": "stderr",
     "output_type": "stream",
     "text": [
      "100%|██████████| 1825/1825 [03:34<00:00,  8.50it/s, train_loss=3.83, train_accuracy=0.246, valid_loss=3.18, valid_accuracy=0.334]\n"
     ]
    },
    {
     "name": "stdout",
     "output_type": "stream",
     "text": [
      "Epoch 9/50\n"
     ]
    },
    {
     "name": "stderr",
     "output_type": "stream",
     "text": [
      "100%|██████████| 1825/1825 [03:35<00:00,  8.48it/s, train_loss=3.77, train_accuracy=0.252, valid_loss=3.17, valid_accuracy=0.329]\n"
     ]
    },
    {
     "name": "stdout",
     "output_type": "stream",
     "text": [
      "Epoch 10/50\n"
     ]
    },
    {
     "name": "stderr",
     "output_type": "stream",
     "text": [
      "100%|██████████| 1825/1825 [03:34<00:00,  8.50it/s, train_loss=3.69, train_accuracy=0.26, valid_loss=3.03, valid_accuracy=0.339]\n"
     ]
    },
    {
     "name": "stdout",
     "output_type": "stream",
     "text": [
      "Epoch 11/50\n"
     ]
    },
    {
     "name": "stderr",
     "output_type": "stream",
     "text": [
      "100%|██████████| 1825/1825 [03:35<00:00,  8.45it/s, train_loss=3.65, train_accuracy=0.266, valid_loss=3.08, valid_accuracy=0.344] \n"
     ]
    },
    {
     "name": "stdout",
     "output_type": "stream",
     "text": [
      "Epoch 12/50\n"
     ]
    },
    {
     "name": "stderr",
     "output_type": "stream",
     "text": [
      "100%|██████████| 1825/1825 [03:36<00:00,  8.44it/s, train_loss=3.59, train_accuracy=0.272, valid_loss=2.99, valid_accuracy=0.359]\n"
     ]
    },
    {
     "name": "stdout",
     "output_type": "stream",
     "text": [
      "Epoch 13/50\n"
     ]
    },
    {
     "name": "stderr",
     "output_type": "stream",
     "text": [
      "100%|██████████| 1825/1825 [03:35<00:00,  8.48it/s, train_loss=3.54, train_accuracy=0.28, valid_loss=2.81, valid_accuracy=0.381]\n"
     ]
    },
    {
     "name": "stdout",
     "output_type": "stream",
     "text": [
      "Epoch 14/50\n"
     ]
    },
    {
     "name": "stderr",
     "output_type": "stream",
     "text": [
      "100%|██████████| 1825/1825 [03:35<00:00,  8.48it/s, train_loss=3.5, train_accuracy=0.284, valid_loss=2.95, valid_accuracy=0.36] \n"
     ]
    },
    {
     "name": "stdout",
     "output_type": "stream",
     "text": [
      "Epoch 15/50\n"
     ]
    },
    {
     "name": "stderr",
     "output_type": "stream",
     "text": [
      "100%|██████████| 1825/1825 [03:34<00:00,  8.50it/s, train_loss=3.43, train_accuracy=0.292, valid_loss=2.93, valid_accuracy=0.359]\n"
     ]
    },
    {
     "name": "stdout",
     "output_type": "stream",
     "text": [
      "Epoch 16/50\n"
     ]
    },
    {
     "name": "stderr",
     "output_type": "stream",
     "text": [
      "100%|██████████| 1825/1825 [03:35<00:00,  8.47it/s, train_loss=3.37, train_accuracy=0.297, valid_loss=2.78, valid_accuracy=0.39] \n"
     ]
    },
    {
     "name": "stdout",
     "output_type": "stream",
     "text": [
      "Epoch 17/50\n"
     ]
    },
    {
     "name": "stderr",
     "output_type": "stream",
     "text": [
      "100%|██████████| 1825/1825 [03:34<00:00,  8.51it/s, train_loss=3.32, train_accuracy=0.304, valid_loss=2.72, valid_accuracy=0.393] \n"
     ]
    },
    {
     "name": "stdout",
     "output_type": "stream",
     "text": [
      "Epoch 18/50\n"
     ]
    },
    {
     "name": "stderr",
     "output_type": "stream",
     "text": [
      "100%|██████████| 1825/1825 [03:34<00:00,  8.51it/s, train_loss=3.28, train_accuracy=0.312, valid_loss=2.77, valid_accuracy=0.388]\n"
     ]
    },
    {
     "name": "stdout",
     "output_type": "stream",
     "text": [
      "Epoch 19/50\n"
     ]
    },
    {
     "name": "stderr",
     "output_type": "stream",
     "text": [
      "100%|██████████| 1825/1825 [03:35<00:00,  8.47it/s, train_loss=3.24, train_accuracy=0.313, valid_loss=2.61, valid_accuracy=0.404]\n"
     ]
    },
    {
     "name": "stdout",
     "output_type": "stream",
     "text": [
      "Epoch 20/50\n"
     ]
    },
    {
     "name": "stderr",
     "output_type": "stream",
     "text": [
      "100%|██████████| 1825/1825 [03:35<00:00,  8.46it/s, train_loss=3.18, train_accuracy=0.324, valid_loss=2.57, valid_accuracy=0.409]\n"
     ]
    },
    {
     "name": "stdout",
     "output_type": "stream",
     "text": [
      "Epoch 21/50\n"
     ]
    },
    {
     "name": "stderr",
     "output_type": "stream",
     "text": [
      "100%|██████████| 1825/1825 [03:34<00:00,  8.49it/s, train_loss=3.13, train_accuracy=0.329, valid_loss=2.6, valid_accuracy=0.42]  \n"
     ]
    },
    {
     "name": "stdout",
     "output_type": "stream",
     "text": [
      "Epoch 22/50\n"
     ]
    },
    {
     "name": "stderr",
     "output_type": "stream",
     "text": [
      "100%|██████████| 1825/1825 [03:35<00:00,  8.48it/s, train_loss=3.1, train_accuracy=0.333, valid_loss=2.54, valid_accuracy=0.425]\n"
     ]
    },
    {
     "name": "stdout",
     "output_type": "stream",
     "text": [
      "Epoch 23/50\n"
     ]
    },
    {
     "name": "stderr",
     "output_type": "stream",
     "text": [
      "100%|██████████| 1825/1825 [03:35<00:00,  8.48it/s, train_loss=3.05, train_accuracy=0.342, valid_loss=2.51, valid_accuracy=0.419]\n"
     ]
    },
    {
     "name": "stdout",
     "output_type": "stream",
     "text": [
      "Epoch 24/50\n"
     ]
    },
    {
     "name": "stderr",
     "output_type": "stream",
     "text": [
      "100%|██████████| 1825/1825 [03:35<00:00,  8.46it/s, train_loss=3, train_accuracy=0.346, valid_loss=2.47, valid_accuracy=0.443]\n"
     ]
    },
    {
     "name": "stdout",
     "output_type": "stream",
     "text": [
      "Epoch 25/50\n"
     ]
    },
    {
     "name": "stderr",
     "output_type": "stream",
     "text": [
      "100%|██████████| 1825/1825 [03:35<00:00,  8.46it/s, train_loss=2.97, train_accuracy=0.353, valid_loss=2.38, valid_accuracy=0.441]\n"
     ]
    },
    {
     "name": "stdout",
     "output_type": "stream",
     "text": [
      "Epoch 26/50\n"
     ]
    },
    {
     "name": "stderr",
     "output_type": "stream",
     "text": [
      "100%|██████████| 1825/1825 [03:35<00:00,  8.49it/s, train_loss=2.91, train_accuracy=0.36, valid_loss=2.35, valid_accuracy=0.453]\n"
     ]
    },
    {
     "name": "stdout",
     "output_type": "stream",
     "text": [
      "Epoch 27/50\n"
     ]
    },
    {
     "name": "stderr",
     "output_type": "stream",
     "text": [
      "100%|██████████| 1825/1825 [03:35<00:00,  8.48it/s, train_loss=2.89, train_accuracy=0.366, valid_loss=2.33, valid_accuracy=0.462]\n"
     ]
    },
    {
     "name": "stdout",
     "output_type": "stream",
     "text": [
      "Epoch 28/50\n"
     ]
    },
    {
     "name": "stderr",
     "output_type": "stream",
     "text": [
      "100%|██████████| 1825/1825 [03:35<00:00,  8.47it/s, train_loss=2.86, train_accuracy=0.37, valid_loss=2.28, valid_accuracy=0.466]\n"
     ]
    },
    {
     "name": "stdout",
     "output_type": "stream",
     "text": [
      "Epoch 29/50\n"
     ]
    },
    {
     "name": "stderr",
     "output_type": "stream",
     "text": [
      "100%|██████████| 1825/1825 [03:35<00:00,  8.46it/s, train_loss=2.82, train_accuracy=0.376, valid_loss=2.26, valid_accuracy=0.471]\n"
     ]
    },
    {
     "name": "stdout",
     "output_type": "stream",
     "text": [
      "Epoch 30/50\n"
     ]
    },
    {
     "name": "stderr",
     "output_type": "stream",
     "text": [
      "100%|██████████| 1825/1825 [03:34<00:00,  8.49it/s, train_loss=2.79, train_accuracy=0.379, valid_loss=2.26, valid_accuracy=0.465]\n"
     ]
    },
    {
     "name": "stdout",
     "output_type": "stream",
     "text": [
      "Epoch 31/50\n"
     ]
    },
    {
     "name": "stderr",
     "output_type": "stream",
     "text": [
      "100%|██████████| 1825/1825 [03:35<00:00,  8.46it/s, train_loss=2.75, train_accuracy=0.387, valid_loss=2.21, valid_accuracy=0.474]\n"
     ]
    },
    {
     "name": "stdout",
     "output_type": "stream",
     "text": [
      "Epoch 32/50\n"
     ]
    },
    {
     "name": "stderr",
     "output_type": "stream",
     "text": [
      "100%|██████████| 1825/1825 [03:35<00:00,  8.48it/s, train_loss=2.71, train_accuracy=0.398, valid_loss=2.18, valid_accuracy=0.494]\n"
     ]
    },
    {
     "name": "stdout",
     "output_type": "stream",
     "text": [
      "Epoch 33/50\n"
     ]
    },
    {
     "name": "stderr",
     "output_type": "stream",
     "text": [
      "100%|██████████| 1825/1825 [03:34<00:00,  8.49it/s, train_loss=2.71, train_accuracy=0.4, valid_loss=2.18, valid_accuracy=0.496]\n"
     ]
    },
    {
     "name": "stdout",
     "output_type": "stream",
     "text": [
      "Epoch 34/50\n"
     ]
    },
    {
     "name": "stderr",
     "output_type": "stream",
     "text": [
      "100%|██████████| 1825/1825 [03:35<00:00,  8.48it/s, train_loss=2.68, train_accuracy=0.405, valid_loss=2.13, valid_accuracy=0.478]\n"
     ]
    },
    {
     "name": "stdout",
     "output_type": "stream",
     "text": [
      "Epoch 35/50\n"
     ]
    },
    {
     "name": "stderr",
     "output_type": "stream",
     "text": [
      "100%|██████████| 1825/1825 [03:34<00:00,  8.49it/s, train_loss=2.65, train_accuracy=0.411, valid_loss=2.13, valid_accuracy=0.498]\n"
     ]
    },
    {
     "name": "stdout",
     "output_type": "stream",
     "text": [
      "Epoch 36/50\n"
     ]
    },
    {
     "name": "stderr",
     "output_type": "stream",
     "text": [
      "100%|██████████| 1825/1825 [03:35<00:00,  8.47it/s, train_loss=2.62, train_accuracy=0.421, valid_loss=2.11, valid_accuracy=0.505]\n"
     ]
    },
    {
     "name": "stdout",
     "output_type": "stream",
     "text": [
      "Epoch 37/50\n"
     ]
    },
    {
     "name": "stderr",
     "output_type": "stream",
     "text": [
      "100%|██████████| 1825/1825 [03:35<00:00,  8.46it/s, train_loss=2.61, train_accuracy=0.419, valid_loss=2.1, valid_accuracy=0.512] \n"
     ]
    },
    {
     "name": "stdout",
     "output_type": "stream",
     "text": [
      "Epoch 38/50\n"
     ]
    },
    {
     "name": "stderr",
     "output_type": "stream",
     "text": [
      "100%|██████████| 1825/1825 [03:35<00:00,  8.49it/s, train_loss=2.59, train_accuracy=0.424, valid_loss=2.09, valid_accuracy=0.505]\n"
     ]
    },
    {
     "name": "stdout",
     "output_type": "stream",
     "text": [
      "Epoch 39/50\n"
     ]
    },
    {
     "name": "stderr",
     "output_type": "stream",
     "text": [
      "100%|██████████| 1825/1825 [03:33<00:00,  8.53it/s, train_loss=2.56, train_accuracy=0.433, valid_loss=2.06, valid_accuracy=0.517]\n"
     ]
    },
    {
     "name": "stdout",
     "output_type": "stream",
     "text": [
      "Epoch 40/50\n"
     ]
    },
    {
     "name": "stderr",
     "output_type": "stream",
     "text": [
      "100%|██████████| 1825/1825 [03:35<00:00,  8.47it/s, train_loss=2.54, train_accuracy=0.436, valid_loss=2.06, valid_accuracy=0.519]\n"
     ]
    },
    {
     "name": "stdout",
     "output_type": "stream",
     "text": [
      "Epoch 41/50\n"
     ]
    },
    {
     "name": "stderr",
     "output_type": "stream",
     "text": [
      "100%|██████████| 1825/1825 [03:34<00:00,  8.50it/s, train_loss=2.53, train_accuracy=0.44, valid_loss=2.04, valid_accuracy=0.526]\n"
     ]
    },
    {
     "name": "stdout",
     "output_type": "stream",
     "text": [
      "Epoch 42/50\n"
     ]
    },
    {
     "name": "stderr",
     "output_type": "stream",
     "text": [
      "100%|██████████| 1825/1825 [03:35<00:00,  8.49it/s, train_loss=2.51, train_accuracy=0.442, valid_loss=2.04, valid_accuracy=0.525]\n"
     ]
    },
    {
     "name": "stdout",
     "output_type": "stream",
     "text": [
      "Epoch 43/50\n"
     ]
    },
    {
     "name": "stderr",
     "output_type": "stream",
     "text": [
      "100%|██████████| 1825/1825 [03:35<00:00,  8.49it/s, train_loss=2.5, train_accuracy=0.448, valid_loss=2.02, valid_accuracy=0.538]\n"
     ]
    },
    {
     "name": "stdout",
     "output_type": "stream",
     "text": [
      "Epoch 44/50\n"
     ]
    },
    {
     "name": "stderr",
     "output_type": "stream",
     "text": [
      "100%|██████████| 1825/1825 [03:34<00:00,  8.50it/s, train_loss=2.49, train_accuracy=0.45, valid_loss=2, valid_accuracy=0.541]   \n"
     ]
    },
    {
     "name": "stdout",
     "output_type": "stream",
     "text": [
      "Epoch 45/50\n"
     ]
    },
    {
     "name": "stderr",
     "output_type": "stream",
     "text": [
      "100%|██████████| 1825/1825 [03:35<00:00,  8.46it/s, train_loss=2.48, train_accuracy=0.454, valid_loss=2.03, valid_accuracy=0.532]\n"
     ]
    },
    {
     "name": "stdout",
     "output_type": "stream",
     "text": [
      "Epoch 46/50\n"
     ]
    },
    {
     "name": "stderr",
     "output_type": "stream",
     "text": [
      "100%|██████████| 1825/1825 [03:35<00:00,  8.48it/s, train_loss=2.47, train_accuracy=0.456, valid_loss=2.01, valid_accuracy=0.542]\n"
     ]
    },
    {
     "name": "stdout",
     "output_type": "stream",
     "text": [
      "Epoch 47/50\n"
     ]
    },
    {
     "name": "stderr",
     "output_type": "stream",
     "text": [
      "100%|██████████| 1825/1825 [03:34<00:00,  8.50it/s, train_loss=2.46, train_accuracy=0.457, valid_loss=2.01, valid_accuracy=0.538]\n"
     ]
    },
    {
     "name": "stdout",
     "output_type": "stream",
     "text": [
      "Epoch 48/50\n"
     ]
    },
    {
     "name": "stderr",
     "output_type": "stream",
     "text": [
      "100%|██████████| 1825/1825 [03:34<00:00,  8.50it/s, train_loss=2.46, train_accuracy=0.456, valid_loss=2, valid_accuracy=0.541]   \n"
     ]
    },
    {
     "name": "stdout",
     "output_type": "stream",
     "text": [
      "Epoch 49/50\n"
     ]
    },
    {
     "name": "stderr",
     "output_type": "stream",
     "text": [
      "100%|██████████| 1825/1825 [03:35<00:00,  8.48it/s, train_loss=2.45, train_accuracy=0.46, valid_loss=2, valid_accuracy=0.545]   \n"
     ]
    },
    {
     "name": "stdout",
     "output_type": "stream",
     "text": [
      "Epoch 50/50\n"
     ]
    },
    {
     "name": "stderr",
     "output_type": "stream",
     "text": [
      "100%|██████████| 1825/1825 [03:35<00:00,  8.47it/s, train_loss=2.46, train_accuracy=0.46, valid_loss=2, valid_accuracy=0.542]   \n"
     ]
    }
   ],
   "source": [
    "history = []\n",
    "for i in range(1, 51):\n",
    "    print(f\"Epoch {i}/50\")\n",
    "    metric = defaultdict(list)\n",
    "    pbar = tqdm(total=len(trainloader))\n",
    "\n",
    "    model.train()\n",
    "    for i, (inputs, targets) in enumerate(trainloader, 1):\n",
    "        inputs = inputs.to(device)\n",
    "        targets = targets.to(device)\n",
    "\n",
    "        outputs = model(inputs)\n",
    "        loss = criterion(outputs, targets)\n",
    "\n",
    "        optimizer.zero_grad()\n",
    "        loss.backward()\n",
    "        optimizer.step()\n",
    "        scheduler.step()\n",
    "\n",
    "        metric[\"train_loss\"].append(loss.item())\n",
    "        metric[\"train_accuracy\"].append(\n",
    "            (outputs.argmax(-1) == targets).float().mean().item()\n",
    "        )\n",
    "        pbar.set_postfix({k: np.mean(v) for k, v in metric.items()})\n",
    "        pbar.update()\n",
    "\n",
    "    model.eval()\n",
    "    for i, (inputs, targets) in enumerate(validloader, 1):\n",
    "        inputs = inputs.to(device)\n",
    "        targets = targets.to(device)\n",
    "\n",
    "        with torch.inference_mode():\n",
    "            outputs = model(inputs)\n",
    "            loss = criterion(outputs, targets)\n",
    "\n",
    "        metric[\"valid_loss\"].append(loss.item())\n",
    "        metric[\"valid_accuracy\"].append(\n",
    "            (outputs.argmax(-1) == targets).float().mean().item()\n",
    "        )\n",
    "        pbar.set_postfix({k: np.mean(v) for k, v in metric.items()})\n",
    "\n",
    "    history.append({k: np.mean(v) for k, v in metric.items()})\n",
    "    pbar.close()\n",
    "torch.save(model.state_dict(), os.path.join(WEIGHT_PATH, \"r50_simclr_finetune.pt\"))\n",
    "torch.save(history, os.path.join(RECORD_PATH, \"r50_simclr_finetune.pt\"))"
   ]
  }
 ],
 "metadata": {
  "kernelspec": {
   "display_name": "Python 3 (ipykernel)",
   "language": "python",
   "name": "python3"
  },
  "language_info": {
   "codemirror_mode": {
    "name": "ipython",
    "version": 3
   },
   "file_extension": ".py",
   "mimetype": "text/x-python",
   "name": "python",
   "nbconvert_exporter": "python",
   "pygments_lexer": "ipython3",
   "version": "3.8.10"
  }
 },
 "nbformat": 4,
 "nbformat_minor": 5
}
